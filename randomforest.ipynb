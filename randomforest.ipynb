{
 "cells": [
  {
   "cell_type": "code",
   "execution_count": 1,
   "id": "faebc096-82bb-49de-9bab-083f55eb1595",
   "metadata": {},
   "outputs": [
    {
     "name": "stdout",
     "output_type": "stream",
     "text": [
      "37\n",
      "Starting installation...\n",
      "Please <<RESTART YOUR KERNEL>> (Kernel->Restart Kernel and Clear All Outputs)\n"
     ]
    }
   ],
   "source": [
    "%%bash\n",
    "export version=`python --version |awk '{print $2}' |awk -F\".\" '{print $1$2}'`\n",
    "\n",
    "echo $version\n",
    "\n",
    "if [ $version == '36' ] || [ $version == '37' ]; then\n",
    "    echo 'Starting installation...'\n",
    "    pip3 install pyspark==2.4.8 wget==3.2 pyspark2pmml==0.5.1 > install.log 2> install.log\n",
    "    if [ $? == 0 ]; then\n",
    "        echo 'Please <<RESTART YOUR KERNEL>> (Kernel->Restart Kernel and Clear All Outputs)'\n",
    "    else\n",
    "        echo 'Installation failed, please check log:'\n",
    "        cat install.log\n",
    "    fi\n",
    "elif [ $version == '38' ] || [ $version == '39' ]; then\n",
    "    pip3 install pyspark==3.1.2 wget==3.2 pyspark2pmml==0.5.1 > install.log 2> install.log\n",
    "    if [ $? == 0 ]; then\n",
    "        echo 'Please <<RESTART YOUR KERNEL>> (Kernel->Restart Kernel and Clear All Outputs)'\n",
    "    else\n",
    "        echo 'Installation failed, please check log:'\n",
    "        cat install.log\n",
    "    fi\n",
    "else\n",
    "    echo 'Currently only python 3.6, 3.7 , 3.8 and 3.9 are supported, in case you need a different version please open an issue at https://github.com/IBM/claimed/issues'\n",
    "    exit -1\n",
    "fi"
   ]
  },
  {
   "cell_type": "code",
   "execution_count": 14,
   "id": "8515becd-aebb-4351-9331-5827ad479558",
   "metadata": {},
   "outputs": [],
   "source": [
    "from pyspark import SparkContext, SparkConf, SQLContext\n",
    "import os\n",
    "from pyspark.ml.classification import RandomForestClassifier\n",
    "from pyspark.ml.classification import LogisticRegression\n",
    "from pyspark.ml import Pipeline\n",
    "from pyspark.ml.evaluation import MulticlassClassificationEvaluator\n",
    "from pyspark2pmml import PMMLBuilder\n",
    "from pyspark.ml.feature import StringIndexer\n",
    "from pyspark.ml.feature import VectorAssembler\n",
    "from pyspark.ml.feature import MinMaxScaler\n",
    "import logging\n",
    "import shutil\n",
    "import site\n",
    "import sys\n",
    "import wget\n",
    "import re"
   ]
  },
  {
   "cell_type": "code",
   "execution_count": 16,
   "id": "ac221e88-5906-42da-8479-cd3f761a45b4",
   "metadata": {},
   "outputs": [],
   "source": [
    "if sys.version[0:3] == '3.9':\n",
    "    url = ('https://github.com/jpmml/jpmml-sparkml/releases/download/1.7.2/'\n",
    "           'jpmml-sparkml-executable-1.7.2.jar')\n",
    "    wget.download(url)\n",
    "    shutil.copy('jpmml-sparkml-executable-1.7.2.jar',\n",
    "                site.getsitepackages()[0] + '/pyspark/jars/')\n",
    "elif sys.version[0:3] == '3.8':\n",
    "    url = ('https://github.com/jpmml/jpmml-sparkml/releases/download/1.7.2/'\n",
    "           'jpmml-sparkml-executable-1.7.2.jar')\n",
    "    wget.download(url)\n",
    "    shutil.copy('jpmml-sparkml-executable-1.7.2.jar',\n",
    "                site.getsitepackages()[0] + '/pyspark/jars/')\n",
    "elif sys.version[0:3] == '3.7':\n",
    "    url = ('https://github.com/jpmml/jpmml-sparkml/releases/download/1.5.12/'\n",
    "           'jpmml-sparkml-executable-1.5.12.jar')\n",
    "    wget.download(url)\n",
    "elif sys.version[0:3] == '3.6':\n",
    "    url = ('https://github.com/jpmml/jpmml-sparkml/releases/download/1.5.12/'\n",
    "           'jpmml-sparkml-executable-1.5.12.jar')\n",
    "    wget.download(url)\n",
    "else:\n",
    "    raise Exception('Currently only python 3.6 , 3.7, 3,8 and 3.9 is supported, in case '\n",
    "                    'you need a different version please open an issue at '\n",
    "                    'https://github.com/IBM/claimed/issues')"
   ]
  },
  {
   "cell_type": "code",
   "execution_count": 17,
   "id": "cb194092-755f-4782-9bed-05744d717d29",
   "metadata": {},
   "outputs": [],
   "source": [
    "trends_csv = os.environ.get('trends_csv',\n",
    "                              'trends.csv')  # input file name (csv)\n",
    "master = os.environ.get('master',\n",
    "                        \"local[*]\")  # URL to Spark master\n",
    "model_target = os.environ.get('model_target',\n",
    "                              \"model.xml\")  # model output file name\n",
    "data_dir = os.environ.get('data_dir',\n",
    "                          'data/')  # temporary directory for data. \n",
    "input_columns = os.environ.get('input_columns',\n",
    "                               '[\"x\", \"y\", \"z\"]')  # input columns to consider"
   ]
  },
  {
   "cell_type": "code",
   "execution_count": 18,
   "id": "5b580e37-d0c8-4752-8137-cc815c576ef7",
   "metadata": {},
   "outputs": [],
   "source": [
    "parameters = list(\n",
    "    map(lambda s: re.sub('$', '\"', s),\n",
    "        map(\n",
    "            lambda s: s.replace('=', '=\"'),\n",
    "            filter(\n",
    "                lambda s: s.find('=') > -1 and bool(re.match(r'[A-Za-z0-9_]*=[.\\/A-Za-z0-9]*', s)),\n",
    "                sys.argv\n",
    "            )\n",
    "    )))\n",
    "\n",
    "for parameter in parameters:\n",
    "    logging.warning('Parameter: ' + parameter)\n",
    "    exec(parameter)"
   ]
  },
  {
   "cell_type": "code",
   "execution_count": 19,
   "id": "a79190a1-03f2-404f-aab9-22b76fd0849d",
   "metadata": {},
   "outputs": [],
   "source": [
    "conf = SparkConf().setMaster(master)\n",
    "#if sys.version[0:3] == '3.6' or sys.version[0:3] == '3.7':\n",
    "conf.set(\"spark.jars\", 'jpmml-sparkml-executable-1.5.12.jar')\n",
    "\n",
    "sc = SparkContext.getOrCreate(conf)\n",
    "sqlContext = SQLContext(sc)\n",
    "spark = sqlContext.sparkSession"
   ]
  },
  {
   "cell_type": "code",
   "execution_count": 46,
   "id": "11f1dd71-74c8-4475-a042-6db149e2d184",
   "metadata": {},
   "outputs": [],
   "source": [
    "#df = spark.read.csv(data_dir + trends_csv)\n",
    "df = spark.read.option(\"header\", True).csv(data_dir + trends_csv)"
   ]
  },
  {
   "cell_type": "code",
   "execution_count": 47,
   "id": "2a52998f-a09e-443c-93f6-3522c8886bac",
   "metadata": {},
   "outputs": [
    {
     "data": {
      "text/plain": [
       "DataFrame[x: string, y: string, z: string, source: string, class: string]"
      ]
     },
     "execution_count": 47,
     "metadata": {},
     "output_type": "execute_result"
    }
   ],
   "source": [
    "df"
   ]
  },
  {
   "cell_type": "code",
   "execution_count": 22,
   "id": "af4fe278-d2ed-4b7e-a809-97042d610acd",
   "metadata": {},
   "outputs": [],
   "source": [
    "# register a corresponding query table\n",
    "df.createOrReplaceTempView('df')"
   ]
  },
  {
   "cell_type": "code",
   "execution_count": 48,
   "id": "b6e9831d-8a1c-4c41-b894-8dd1eabdf8a7",
   "metadata": {},
   "outputs": [],
   "source": [
    "from pyspark.sql.types import DoubleType\n",
    "df = df.withColumn(\"x\", df.x.cast(DoubleType()))\n",
    "df = df.withColumn(\"y\", df.y.cast(DoubleType()))\n",
    "df = df.withColumn(\"z\", df.z.cast(DoubleType()))"
   ]
  },
  {
   "cell_type": "code",
   "execution_count": 49,
   "id": "16aee041-de0c-44a3-ab1f-335ad9ac6ef9",
   "metadata": {},
   "outputs": [
    {
     "name": "stdout",
     "output_type": "stream",
     "text": [
      "+----+----+----+--------------------+--------+\n",
      "|   x|   y|   z|              source|   class|\n",
      "+----+----+----+--------------------+--------+\n",
      "|33.0|36.0|51.0|Accelerometer-201...|Eat_meat|\n",
      "|33.0|36.0|51.0|Accelerometer-201...|Eat_meat|\n",
      "|33.0|35.0|53.0|Accelerometer-201...|Eat_meat|\n",
      "|31.0|37.0|52.0|Accelerometer-201...|Eat_meat|\n",
      "|32.0|36.0|52.0|Accelerometer-201...|Eat_meat|\n",
      "|32.0|36.0|51.0|Accelerometer-201...|Eat_meat|\n",
      "|32.0|36.0|51.0|Accelerometer-201...|Eat_meat|\n",
      "|33.0|36.0|53.0|Accelerometer-201...|Eat_meat|\n",
      "|33.0|35.0|52.0|Accelerometer-201...|Eat_meat|\n",
      "|33.0|36.0|52.0|Accelerometer-201...|Eat_meat|\n",
      "|32.0|35.0|53.0|Accelerometer-201...|Eat_meat|\n",
      "|33.0|36.0|52.0|Accelerometer-201...|Eat_meat|\n",
      "|32.0|38.0|53.0|Accelerometer-201...|Eat_meat|\n",
      "|32.0|37.0|52.0|Accelerometer-201...|Eat_meat|\n",
      "|33.0|35.0|52.0|Accelerometer-201...|Eat_meat|\n",
      "|32.0|36.0|53.0|Accelerometer-201...|Eat_meat|\n",
      "|32.0|36.0|53.0|Accelerometer-201...|Eat_meat|\n",
      "|32.0|36.0|52.0|Accelerometer-201...|Eat_meat|\n",
      "|34.0|36.0|52.0|Accelerometer-201...|Eat_meat|\n",
      "|33.0|36.0|52.0|Accelerometer-201...|Eat_meat|\n",
      "+----+----+----+--------------------+--------+\n",
      "only showing top 20 rows\n",
      "\n"
     ]
    }
   ],
   "source": [
    "#df.drop()\n",
    "df.show()"
   ]
  },
  {
   "cell_type": "code",
   "execution_count": 50,
   "id": "182e37b6-5a5f-4dcf-b39f-43763a4a4504",
   "metadata": {},
   "outputs": [],
   "source": [
    "splits = df.randomSplit([0.8, 0.2], 1)\n",
    "df_train = splits[0]\n",
    "df_test = splits[1]"
   ]
  },
  {
   "cell_type": "code",
   "execution_count": 51,
   "id": "817771e4-2879-4252-a0aa-a351a39097ea",
   "metadata": {},
   "outputs": [],
   "source": [
    "indexer = StringIndexer(inputCol=\"class\", outputCol=\"label\")\n",
    "\n",
    "vectorAssembler = VectorAssembler(inputCols=eval(input_columns),\n",
    "                                  outputCol=\"features\")\n",
    "\n",
    "normalizer = MinMaxScaler(inputCol=\"features\", outputCol=\"features_norm\")"
   ]
  },
  {
   "cell_type": "code",
   "execution_count": 53,
   "id": "a3655527-bf05-4da9-b32c-05390b90ad0b",
   "metadata": {},
   "outputs": [
    {
     "name": "stdout",
     "output_type": "stream",
     "text": [
      "\n",
      "Num of Trees=10 maxDepth=5\n",
      "\n"
     ]
    },
    {
     "name": "stderr",
     "output_type": "stream",
     "text": [
      "                                                                                \r"
     ]
    },
    {
     "name": "stdout",
     "output_type": "stream",
     "text": [
      "0.43897645510792577\n",
      "\n",
      "Num of Trees=10 maxDepth=7\n",
      "\n"
     ]
    },
    {
     "name": "stderr",
     "output_type": "stream",
     "text": [
      "                                                                                \r"
     ]
    },
    {
     "name": "stdout",
     "output_type": "stream",
     "text": [
      "0.4632436518379574\n",
      "\n",
      "Num of Trees=20 maxDepth=5\n",
      "\n"
     ]
    },
    {
     "name": "stderr",
     "output_type": "stream",
     "text": [
      "                                                                                \r"
     ]
    },
    {
     "name": "stdout",
     "output_type": "stream",
     "text": [
      "0.44374702539264815\n",
      "\n",
      "Num of Trees=20 maxDepth=7\n",
      "\n"
     ]
    },
    {
     "name": "stderr",
     "output_type": "stream",
     "text": [
      "[Stage 120:==========================================>              (6 + 2) / 8]"
     ]
    },
    {
     "name": "stdout",
     "output_type": "stream",
     "text": [
      "0.4671827318793919\n"
     ]
    },
    {
     "name": "stderr",
     "output_type": "stream",
     "text": [
      "                                                                                \r"
     ]
    }
   ],
   "source": [
    "# lr = LogisticRegression(maxIter=1000, regParam=0.01, elasticNetParam=1.0)\n",
    "TA = [10, 20]\n",
    "DA = [5, 7]\n",
    "\n",
    "for i in TA:\n",
    "    for j in DA:\n",
    "        rfr = RandomForestClassifier(numTrees=i, maxDepth=j, seed=1)\n",
    "        print(\"\\nNum of Trees=\" + str(i) + \" maxDepth=\" + str(j) + \"\\n\")\n",
    "        pipeline = Pipeline(stages=[indexer, vectorAssembler, normalizer, rfr])\n",
    "        model = pipeline.fit(df_train)\n",
    "\n",
    "        prediction = model.transform(df_train)\n",
    "\n",
    "        binEval = MulticlassClassificationEvaluator(). \\\n",
    "            setMetricName(\"accuracy\"). \\\n",
    "            setPredictionCol(\"prediction\"). \\\n",
    "            setLabelCol(\"label\")\n",
    "\n",
    "        print(binEval.evaluate(prediction)) \n",
    "        \n",
    "        #model = rfr.fit(df_train)\n",
    "        #prediction = model.transform(df_train)\n",
    "        \n",
    "        #binEval = MulticlassClassificationEvaluator(). \\\n",
    "        #    setMetricName(\"accuracy\"). \\\n",
    "        #    setPredictionCol(\"prediction\"). \\\n",
    "        #    setLabelCol(\"label\")\n",
    "\n",
    "        #print(binEval.evaluate(prediction)) \n",
    "        "
   ]
  },
  {
   "cell_type": "code",
   "execution_count": null,
   "id": "30a584e6-3fe3-4c6b-94b7-39399d5f00af",
   "metadata": {},
   "outputs": [],
   "source": []
  }
 ],
 "metadata": {
  "kernelspec": {
   "display_name": "Python",
   "language": "python",
   "name": "conda-env-python-py"
  },
  "language_info": {
   "codemirror_mode": {
    "name": "ipython",
    "version": 3
   },
   "file_extension": ".py",
   "mimetype": "text/x-python",
   "name": "python",
   "nbconvert_exporter": "python",
   "pygments_lexer": "ipython3",
   "version": "3.7.12"
  }
 },
 "nbformat": 4,
 "nbformat_minor": 5
}
